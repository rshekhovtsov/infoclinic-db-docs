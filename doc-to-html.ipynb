{
 "cells": [
  {
   "cell_type": "markdown",
   "metadata": {},
   "source": [
    "# Convert InfoClinic database structure documentation from PDF to HTML\n",
    "1. Convert PDF to DOC using www.pdf2doc.com.\n",
    "2. Copy-paste from Word or LibreOffice Writer to text file.\n",
    "3. Run this script to build HTML documentation.\n",
    "\n",
    "<B>PROFIT!<B>"
   ]
  },
  {
   "cell_type": "code",
   "execution_count": 1,
   "metadata": {},
   "outputs": [
    {
     "data": {
      "text/html": [
       "<style>.container { width:100% !important; }</style>"
      ],
      "text/plain": [
       "<IPython.core.display.HTML object>"
      ]
     },
     "metadata": {},
     "output_type": "display_data"
    }
   ],
   "source": [
    "from IPython.core.display import display, HTML\n",
    "display(HTML(\"<style>.container { width:100% !important; }</style>\"))"
   ]
  },
  {
   "cell_type": "code",
   "execution_count": 10,
   "metadata": {},
   "outputs": [],
   "source": [
    "import re\n",
    "import traceback\n",
    "\n",
    "INPUT_TXT_FILE_NAME = 'infoclinic-db.txt'\n",
    "OUTPUT_HTML_FILE_NAME = 'infoclinic-db.html'"
   ]
  },
  {
   "cell_type": "code",
   "execution_count": 3,
   "metadata": {},
   "outputs": [],
   "source": [
    "f = open(INPUT_TXT_FILE_NAME) \n",
    "text = '\\n'.join(f.readlines())\n",
    "#text"
   ]
  },
  {
   "cell_type": "code",
   "execution_count": 12,
   "metadata": {
    "scrolled": true
   },
   "outputs": [
    {
     "name": "stdout",
     "output_type": "stream",
     "text": [
      "True\n",
      "True\n",
      "True\n",
      "True\n"
     ]
    }
   ],
   "source": [
    "# table names and comments\n",
    "id_regexp_str = '[A-Z]+[A-Z0-9_$]+' # in difference from firebird, we require at least 2 characters in identifier (to prevent false matches)\n",
    "\n",
    "table_name_regexp = re.compile('\\\\n{}\\\\n'.format(id_regexp_str))\n",
    "\n",
    "tables_text = text.split('\\nСтруктура таблицы\\n')\n",
    "table_names = list(map(\n",
    "    lambda x: re.findall(table_name_regexp, x)[-1].strip(), \n",
    "    tables_text[:len(tables_text)-1]\n",
    "))\n",
    "\n",
    "table_comments = list(map(\n",
    "    lambda x: re.split(table_name_regexp, x)[-1].strip(), \n",
    "    tables_text[:len(tables_text)-1]\n",
    "))\n",
    "\n",
    "# tests\n",
    "print(table_names[0]=='ACCIDENT')\n",
    "print(table_names[-1]=='WSCHEMA_DENIED')\n",
    "print(table_comments[0]=='Случаи заболевания')\n",
    "print(table_comments[-1]=='Прейскурант Клиники. Несовместимые услуги')"
   ]
  },
  {
   "cell_type": "code",
   "execution_count": 137,
   "metadata": {},
   "outputs": [
    {
     "data": {
      "text/html": [
       "\n",
       "<h1>Документация по структуре таблиц</h1>\n",
       "<h2>МИС Инфоклиника™</h2>\n",
       "<h3>Версия 13.1 Stable<br>     Copyright ООО \"Смарт Дельта Системс\"<br>Версия документа от 03.06.2016</h3>\n"
      ],
      "text/plain": [
       "<IPython.core.display.HTML object>"
      ]
     },
     "metadata": {},
     "output_type": "display_data"
    }
   ],
   "source": [
    "header = list(filter(\n",
    "        lambda x: len(x.strip()) > 0,\n",
    "        re.split(table_name_regexp, tables_text[0])[0].split('\\n')\n",
    "))\n",
    "\n",
    "header_html = '''\n",
    "<h1>{}</h1>\n",
    "<h2>{}</h2>\n",
    "<h3>{}</h3>\n",
    "'''.format(header[0], header[1], '<br>'.join(header[2:]))\n",
    "header_html = header_html.replace('•', '')\n",
    "\n",
    "# test\n",
    "display(HTML(header_html))"
   ]
  },
  {
   "cell_type": "code",
   "execution_count": 21,
   "metadata": {},
   "outputs": [
    {
     "name": "stdout",
     "output_type": "stream",
     "text": [
      "ACDID\tИдентификатор случая заболевания. Генератор [ACCIDENTGEN]\n",
      "ACDPCODE\tКод пациента <a href=\"#CLIENTS\">[CLIENTS.PCODE]</a>\n",
      "PREDIAG\tДиагноза с которым открыт случай. <a href=\"#DIAGCLIENTS\">[DIAGCLIENTS.DGCODE]</a>\n",
      "PREDCODE\tДоктор, который открыл случай. <a href=\"#DOCTOR\">[DOCTOR.DCODE]</a>\n",
      "PRETREATCODE\tИдентификатор приема, в котором был открыт случай. <a href=\"#TREAT\">[TREAT.TREATCODE]</a>\n",
      "PREDATE\tДата открытия случая\n",
      "NEEDEXACT\tПризнак - диагноз требует уточнения, автоматически ставится если код\n",
      "диагноза заканчивается на .9\n",
      "EXACTEDDIAG\tУточненный диагноз. Ставится, если диагноз отличается от того, с которым\n",
      "был открыт случай\n",
      "Если диагноз менялся несколько раз, то пишется последний\n",
      "диагноз.<a href=\"#DIAGCLIENTS\">[DIAGCLIENTS.DGCODE]</a>\n",
      "EXACTEDDCODE\tДоктор уточнивший диагноз. <a href=\"#DOCTOR\">[DOCTOR.DCODE]</a>\n",
      "EXACTEDTREATCODE\tИдентификатор приема, в котором последний раз производилось изменение\n",
      "диагноза случая. <a href=\"#TREAT\">[TREAT.TREATCODE]</a>\n",
      "EXACTEDDATE\tДата последнего уточнения диагноза\n",
      "FINALDIAG\tДиагноз, c которым случай закрыт. <a href=\"#DIAGCLIENTS\">[DIAGCLIENTS.DGCODE]</a>\n",
      "FINALDCODE\tДоктор закрвыший случай. <a href=\"#DOCTOR\">[DOCTOR.DCODE]</a>\n",
      "FINALTREATCODE\tИдентификатор приема, в котором был закрыт случай. <a href=\"#TREAT\">[TREAT.TREATCODE]</a>\n",
      "FINALDATE\tДата закрытия случая\n",
      "ACDSTATE\tСтатус закрытия случая [DICINFO] RefId=86\n",
      "ACDCOMMENT\tКомментарий\n",
      "NUMBULL\tИдентификатор больничного листа.  <a href=\"#CLBULLETS\">[CLBULLETS.NUMBULL]</a>\n",
      "MODIFYDATE\tДата модификации\n",
      "CREATEDATE\tДата создания записи о случае\n",
      "CREATEUID\tПользователь создавший случай. <a href=\"#DOCTOR\">[DOCTOR.DCODE]</a>\n",
      "FILIAL\tФилиал. <a href=\"#FILIALS\">[FILIALS.FILID]</a>\n",
      "TYPEOFCLOSE\tне  используется\n",
      "DIRID\tИдентификатор стационарного лежания. STAT_DIRECTION.SDID\n",
      "STAT_OUTCOME\tне используется\n",
      "STAT_RESULT\tИдентификатор результата обращения за МП. DICINFO.DICID\n",
      "(refid=-10003 and rekvint1 is not null and rekvint2=:place, где place =\n",
      "WORKPLACEDOC.PLACEID для данного протокола)\n",
      "DIRDIAG\t\n",
      "DIRDCODE\t\n",
      "DIRDATE\t\n",
      "DIRTREATCODE\t\n",
      "TYPEOFCREATE\t1 - случай, созданный в стационаре\n",
      "2 - стоматологический случай\n",
      "3 - случай СМП\n",
      "MEDCONDITION\tИдентификатор места оказания. DICINFO.DICID\n",
      "(refid=55 and rekvint1 is not null)\n",
      "MEDACDEND\tИдентификатор исхода обращения за МП. DICINFO.DICID\n",
      "(refid=-10017 and rekvint1 is not null and rekvint2=:place, где place = значение\n",
      "места обслуживания из refid=55)\n",
      "MEDRESULT\tИдентификатор результата обращения за МП. DICINFO.DICID\n",
      "(refid=-10003 and rekvint1 is not null and rekvint2=:place, где place = значение\n",
      "места обслуживания из refid=55)\n",
      "MEDCARETYPE\t\n",
      "REFID\tИдентификатор направления. <a href=\"#CLREFERRALS\">[CLREFERRALS.REFID]</a>\n",
      "REPL$ID\tИдентификатор репликации\n",
      "REPL$GRPID\tИдентификатор группы репликации\n",
      "ORGANID\t\n",
      "\n"
     ]
    }
   ],
   "source": [
    "# table descriptions\n",
    "page_number = 1\n",
    "table_link_regexp = re.compile('\\\\[({0})\\\\.({0})\\\\]'.format(id_regexp_str))\n",
    "# remove empty lines and page numbers\n",
    "# [BT_PROFILE_GEN] - generator reference (will not process)\n",
    "# [DOCTOR.DCODE] - field reference (make link to table)\n",
    "def process_field_comment(comment, table_link_regexp):\n",
    "    global page_number\n",
    "    \n",
    "    comment = comment.strip()\n",
    "        \n",
    "    comment = re.sub(table_link_regexp, '<a href=\"#\\\\1\">[\\\\1.\\\\2]</a>', comment)\n",
    "    \n",
    "    if comment.isnumeric() and int(comment) == page_number + 1:\n",
    "        comment = ''\n",
    "        page_number += 1\n",
    "    \n",
    "    if len(comment) > 0:\n",
    "        comment += '\\n'\n",
    "        \n",
    "    return comment\n",
    "\n",
    "\n",
    "# get table columns description\n",
    "def get_description(table_str, table_name_regexp, table_link_regexp):\n",
    "    columns = re.findall(table_name_regexp, table_str)[:-1]\n",
    "    comments = re.split(table_name_regexp, table_str)[1:-1]\n",
    "    result = ''\n",
    "    for i in range(len(columns)):\n",
    "        comments[i] = ''.join(list(map(\n",
    "                lambda x: process_field_comment(x, table_link_regexp),\n",
    "                comments[i].split('\\n')\n",
    "            )))\n",
    "        result += columns[i].strip() + '\\t' + comments[i].strip() + '\\n'\n",
    "    return result\n",
    "    \n",
    "\n",
    "table_descriptions = list(map(\n",
    "    lambda x: get_description(x, table_name_regexp, table_link_regexp), \n",
    "    tables_text[1:]\n",
    "))    \n",
    "\n",
    "# tests\n",
    "print(table_descriptions[0])"
   ]
  },
  {
   "cell_type": "code",
   "execution_count": 101,
   "metadata": {
    "scrolled": true
   },
   "outputs": [
    {
     "data": {
      "text/html": [
       "<h3><a id=\"ACCIDENT\">ACCIDENT</a></h3>Случаи заболевания<p><table>\n",
       "    <thead>\n",
       "    <tr>\n",
       "        <td>Колонка</td>\n",
       "        <td>Описание</td>\n",
       "    </tr>\n",
       "    </thead>\n",
       "    \n",
       "\t<tr><td>ACDID</td><td>Идентификатор случая заболевания. Генератор [ACCIDENTGEN]</td></tr>\n",
       "\t<tr><td>ACDPCODE</td><td>Код пациента <a href=\"#CLIENTS\">[CLIENTS.PCODE]</a></td></tr>\n",
       "\t<tr><td>PREDIAG</td><td>Диагноза с которым открыт случай. <a href=\"#DIAGCLIENTS\">[DIAGCLIENTS.DGCODE]</a></td></tr>\n",
       "\t<tr><td>PREDCODE</td><td>Доктор, который открыл случай. <a href=\"#DOCTOR\">[DOCTOR.DCODE]</a></td></tr>\n",
       "\t<tr><td>PRETREATCODE</td><td>Идентификатор приема, в котором был открыт случай. <a href=\"#TREAT\">[TREAT.TREATCODE]</a></td></tr>\n",
       "\t<tr><td>PREDATE</td><td>Дата открытия случая</td></tr>\n",
       "\t<tr><td>NEEDEXACT</td><td>Признак - диагноз требует уточнения, автоматически ставится если код\n",
       "диагноза заканчивается на .9</td></tr>\n",
       "\t<tr><td>EXACTEDDIAG</td><td>Уточненный диагноз. Ставится, если диагноз отличается от того, с которым\n",
       "был открыт случай\n",
       "Если диагноз менялся несколько раз, то пишется последний\n",
       "диагноз.<a href=\"#DIAGCLIENTS\">[DIAGCLIENTS.DGCODE]</a></td></tr>\n",
       "\t<tr><td>EXACTEDDCODE</td><td>Доктор уточнивший диагноз. <a href=\"#DOCTOR\">[DOCTOR.DCODE]</a></td></tr>\n",
       "\t<tr><td>EXACTEDTREATCODE</td><td>Идентификатор приема, в котором последний раз производилось изменение\n",
       "диагноза случая. <a href=\"#TREAT\">[TREAT.TREATCODE]</a></td></tr>\n",
       "\t<tr><td>EXACTEDDATE</td><td>Дата последнего уточнения диагноза</td></tr>\n",
       "\t<tr><td>FINALDIAG</td><td>Диагноз, c которым случай закрыт. <a href=\"#DIAGCLIENTS\">[DIAGCLIENTS.DGCODE]</a></td></tr>\n",
       "\t<tr><td>FINALDCODE</td><td>Доктор закрвыший случай. <a href=\"#DOCTOR\">[DOCTOR.DCODE]</a></td></tr>\n",
       "\t<tr><td>FINALTREATCODE</td><td>Идентификатор приема, в котором был закрыт случай. <a href=\"#TREAT\">[TREAT.TREATCODE]</a></td></tr>\n",
       "\t<tr><td>FINALDATE</td><td>Дата закрытия случая</td></tr>\n",
       "\t<tr><td>ACDSTATE</td><td>Статус закрытия случая [DICINFO] RefId=86</td></tr>\n",
       "\t<tr><td>ACDCOMMENT</td><td>Комментарий</td></tr>\n",
       "\t<tr><td>NUMBULL</td><td>Идентификатор больничного листа.  <a href=\"#CLBULLETS\">[CLBULLETS.NUMBULL]</a></td></tr>\n",
       "\t<tr><td>MODIFYDATE</td><td>Дата модификации</td></tr>\n",
       "\t<tr><td>CREATEDATE</td><td>Дата создания записи о случае</td></tr>\n",
       "\t<tr><td>CREATEUID</td><td>Пользователь создавший случай. <a href=\"#DOCTOR\">[DOCTOR.DCODE]</a></td></tr>\n",
       "\t<tr><td>FILIAL</td><td>Филиал. <a href=\"#FILIALS\">[FILIALS.FILID]</a></td></tr>\n",
       "\t<tr><td>TYPEOFCLOSE</td><td>не  используется</td></tr>\n",
       "\t<tr><td>DIRID</td><td>Идентификатор стационарного лежания. STAT_DIRECTION.SDID</td></tr>\n",
       "\t<tr><td>STAT_OUTCOME</td><td>не используется</td></tr>\n",
       "\t<tr><td>STAT_RESULT</td><td>Идентификатор результата обращения за МП. DICINFO.DICID\n",
       "(refid=-10003 and rekvint1 is not null and rekvint2=:place, где place =\n",
       "WORKPLACEDOC.PLACEID для данного протокола)</td></tr>\n",
       "\t<tr><td>DIRDIAG</td><td></td></tr>\n",
       "\t<tr><td>DIRDCODE</td><td></td></tr>\n",
       "\t<tr><td>DIRDATE</td><td></td></tr>\n",
       "\t<tr><td>DIRTREATCODE</td><td></td></tr>\n",
       "\t<tr><td>TYPEOFCREATE</td><td>1 - случай, созданный в стационаре\n",
       "2 - стоматологический случай\n",
       "3 - случай СМП</td></tr>\n",
       "\t<tr><td>MEDCONDITION</td><td>Идентификатор места оказания. DICINFO.DICID\n",
       "(refid=55 and rekvint1 is not null)</td></tr>\n",
       "\t<tr><td>MEDACDEND</td><td>Идентификатор исхода обращения за МП. DICINFO.DICID\n",
       "(refid=-10017 and rekvint1 is not null and rekvint2=:place, где place = значение\n",
       "места обслуживания из refid=55)</td></tr>\n",
       "\t<tr><td>MEDRESULT</td><td>Идентификатор результата обращения за МП. DICINFO.DICID\n",
       "(refid=-10003 and rekvint1 is not null and rekvint2=:place, где place = значение\n",
       "места обслуживания из refid=55)</td></tr>\n",
       "\t<tr><td>MEDCARETYPE</td><td></td></tr>\n",
       "\t<tr><td>REFID</td><td>Идентификатор направления. <a href=\"#CLREFERRALS\">[CLREFERRALS.REFID]</a></td></tr>\n",
       "\t<tr><td>REPL$ID</td><td>Идентификатор репликации</td></tr>\n",
       "\t<tr><td>REPL$GRPID</td><td>Идентификатор группы репликации</td></tr>\n",
       "\t<tr><td>ORGANID</td><td></td></tr>\n",
       "</table><p>"
      ],
      "text/plain": [
       "<IPython.core.display.HTML object>"
      ]
     },
     "metadata": {},
     "output_type": "display_data"
    }
   ],
   "source": [
    "# build html with description for table\n",
    "field_name_regexp = re.compile('(?!^ ){}(?=\\t)'.format(id_regexp_str))\n",
    "\n",
    "def build_table_html(table_name, table_comment, table_descr, field_name_regexp):\n",
    "    \n",
    "    field_names = re.findall(field_name_regexp, table_descr)\n",
    "    \n",
    "    field_descriptions = re.split(field_name_regexp, table_descr)[1:]\n",
    "    field_descriptions = list(map(lambda x: x.split('\\n  \\n')[0].strip(), field_descriptions)) \n",
    "    field_descriptions = list(map(lambda x: '' if x.isnumeric() else x, field_descriptions))\n",
    "    \n",
    "    thead = '''\n",
    "    <thead>\n",
    "    <tr>\n",
    "        <td>Колонка</td>\n",
    "        <td>Описание</td>\n",
    "    </tr>\n",
    "    </thead>\n",
    "    '''\n",
    "    html = '<h3><a id=\"{0}\">{0}</a></h3>{1}<p><table>{2}'.format(table_name, table_comment, thead)\n",
    "    for i in range(len(field_names)):\n",
    "        html += '\\n\\t<tr><td>' + field_names[i] + '</td><td>' + field_descriptions[i] + '</td></tr>'\n",
    "    html += '\\n</table><p>'\n",
    "    return html\n",
    "\n",
    "\n",
    "# test\n",
    "table_name = table_names[0]\n",
    "table_comment = table_comments[0]\n",
    "table_descr = table_descriptions[0]\n",
    "html = build_table_html(table_name, table_comment, table_descr, field_name_regexp)\n",
    "\n",
    "display(HTML(html))"
   ]
  },
  {
   "cell_type": "code",
   "execution_count": 138,
   "metadata": {
    "scrolled": true
   },
   "outputs": [],
   "source": [
    "table_of_content = '''\n",
    "<html>\n",
    "\n",
    "<head>\n",
    "\n",
    "<style>\n",
    "table {\n",
    "    width: 80%;\n",
    "    border-bottom: 4px solid #dfdfdf; \n",
    "    border-radius: 6px; \n",
    "    border-collapse: separate;\n",
    "    border-spacing: 0px;\n",
    "    margin-left:auto; \n",
    "    margin-right:auto;\n",
    "}\n",
    "table thead tr td {\n",
    "    color: #ffffff; \n",
    "    font-weight: bold;\n",
    "    background: #c83240;\n",
    "    padding: 8px;\n",
    "}\n",
    "table tbody tr {background: #F6F6F6;}\n",
    "table tbody tr:nth-child(2n) {background: #FFFFFF;}\n",
    "table tbody tr td {border: 1px solid #e8e9eb; padding: 4px}\n",
    "table tbody tr:hover {background: #ffe8e8; transition-duration: 0.6s;}\n",
    "</style>\n",
    "  \n",
    "</head>\n",
    "\n",
    "<body>\n",
    "<center>\n",
    "''' + header_html + '''\n",
    "<table>\n",
    "    <thead>\n",
    "    <tr>\n",
    "        <td>Таблица</td>\n",
    "        <td>Описание</td>\n",
    "    </tr>\n",
    "    </thead>\n",
    "'''\n",
    "\n",
    "html = ''\n",
    "\n",
    "try: \n",
    "    for i in range(len(table_names)):\n",
    "        table_name = table_names[i]\n",
    "        table_comment = table_comments[i]\n",
    "        table_of_content += '\\n\\t<tr><td><a href=\"#{0}\">{0}</a></td><td>{1}</td></tr>\\n'.format(table_name, table_comment.split('\\n')[0]) # only first line of comment in ToC\n",
    "        #print('<a href=' + file_name + '>' + table_name + '</a>', table_comment, '<br>')\n",
    "        table_descr = table_descriptions[i]\n",
    "        html += build_table_html(table_name, table_comment, table_descr, field_name_regexp)\n",
    "    table_of_content += '\\n</table>'\n",
    "    html += '''\n",
    "    </center>\n",
    "    </body>\n",
    "    </html>'''\n",
    "    \n",
    "except Exception as ex:\n",
    "    print('Exception at line {}:'.format(i))\n",
    "    print('Table name:', table_name)\n",
    "    print('Table comment:',table_comment)\n",
    "    print('Table description:', table_descr)\n",
    "    print( traceback.format_exc())\n",
    "\n",
    "#display(HTML(table_of_content))\n",
    "#display(HTML(table_of_content + html))\n",
    "\n",
    "f = open(OUTPUT_HTML_FILE_NAME,\"w+\")\n",
    "f.write(table_of_content + html)\n",
    "f.close()"
   ]
  },
  {
   "cell_type": "code",
   "execution_count": null,
   "metadata": {},
   "outputs": [],
   "source": [
    "# git inital setup\n",
    "!git init\n",
    "!git config --global user.email \"pomka@yandex.ru\"\n",
    "!git config --global user.name \"Roman Shekhovtsov\"\n",
    "!git remote add origin git@github.com:rshekhovtsov/infoclinic-db-docs.git"
   ]
  },
  {
   "cell_type": "code",
   "execution_count": 34,
   "metadata": {},
   "outputs": [
    {
     "name": "stdout",
     "output_type": "stream",
     "text": [
      "[master f3a9c12] -added foreign keys hrefs; -more reliable page numbers skipping\n",
      " 1 file changed, 18 insertions(+), 5 deletions(-)\n",
      "Перечисление объектов: 5, готово.\n",
      "Подсчет объектов: 100% (5/5), готово.\n",
      "При сжатии изменений используется до 4 потоков\n",
      "Сжатие объектов: 100% (2/2), готово.\n",
      "Запись объектов: 100% (3/3), 742 bytes | 742.00 KiB/s, готово.\n",
      "Всего 3 (изменения 1), повторно использовано 0 (изменения 0)\n",
      "remote: Resolving deltas: 100% (1/1), completed with 1 local object.\u001b[K\n",
      "To github.com:rshekhovtsov/infoclinic-db-docs.git\n",
      "   5d0102c..f3a9c12  master -> master\n"
     ]
    }
   ],
   "source": [
    "# commit & push\n",
    "!git add *.ipynb\n",
    "!git commit -m \"- added nicely css; - auto\"\n",
    "!git push origin master"
   ]
  }
 ],
 "metadata": {
  "kernelspec": {
   "display_name": "Python 3",
   "language": "python",
   "name": "python3"
  },
  "language_info": {
   "codemirror_mode": {
    "name": "ipython",
    "version": 3
   },
   "file_extension": ".py",
   "mimetype": "text/x-python",
   "name": "python",
   "nbconvert_exporter": "python",
   "pygments_lexer": "ipython3",
   "version": "3.7.1"
  }
 },
 "nbformat": 4,
 "nbformat_minor": 2
}
